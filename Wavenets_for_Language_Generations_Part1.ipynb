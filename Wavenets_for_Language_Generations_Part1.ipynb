{
  "cells": [
    {
      "cell_type": "markdown",
      "metadata": {
        "id": "view-in-github",
        "colab_type": "text"
      },
      "source": [
        "<a href=\"https://colab.research.google.com/github/martinpius/MachineTranslation/blob/main/Wavenets_for_Language_Generations_Part1.ipynb\" target=\"_parent\"><img src=\"https://colab.research.google.com/assets/colab-badge.svg\" alt=\"Open In Colab\"/></a>"
      ]
    },
    {
      "cell_type": "code",
      "source": [
        "from timeit import default_timer as timer\n",
        "t1= timer()\n",
        "try:\n",
        "  from google.colab import drive\n",
        "  drive.mount(\"/content/drive/\", force_remount = True)\n",
        "  import torch, math, random\n",
        "  import torch.nn.functional as F\n",
        "  import matplotlib.pyplot as plt\n",
        "  from tqdm.auto import tqdm\n",
        "  print(f\">>>> You are on CoLaB with torch version: {torch.__version__}\")\n",
        "except Exception as e:\n",
        "  print(f\">>>> {type(e)}: {e}\\n>>>> Please correct {type(e)} and reload your drive\")\n",
        "device = torch.device(\"cuda\") if torch.cuda.is_available() else torch.device(\"cpu\")\n",
        "BATCH_SIZE = 128 if device == torch.device(\"cuda\") else 64\n",
        "print(f\">>>> Available device: {device}\")\n",
        "def mytimer(t: float = timer())->float:\n",
        "  h = int(t / (60 * 60))\n",
        "  m = int(t % (60 * 60) / 60)\n",
        "  s = int(t % 60)\n",
        "  return f\"hrs: {h:04}, mins: {m:>02}, secs: {s:>05.2f}\"\n",
        "print(f\">>>> Time elapsed:\\t {mytimer(timer() - t1)}\")\n"
      ],
      "metadata": {
        "colab": {
          "base_uri": "https://localhost:8080/"
        },
        "id": "itpZKX0BgEwR",
        "outputId": "a9f8c50b-54a9-4046-edb1-c2c6b60b02dd"
      },
      "execution_count": 1,
      "outputs": [
        {
          "output_type": "stream",
          "name": "stdout",
          "text": [
            "Mounted at /content/drive/\n",
            ">>>> You are on CoLaB with torch version: 2.0.1+cu118\n",
            ">>>> Available device: cpu\n",
            ">>>> Time elapsed:\t hrs: 0000, mins: 00, secs: 37.00\n"
          ]
        }
      ]
    },
    {
      "cell_type": "code",
      "source": [
        "class Linear:\n",
        "\n",
        "  def __init__(self, in_dim, out_dim, bias = True):\n",
        "    self.weight = torch.randn(size = (in_dim, out_dim), generator = g) * (in_dim) ** -0.5\n",
        "    self.bias = torch.zeros(out_dim) if bias else None\n",
        "\n",
        "  def __call__(self, x: torch.Tensor)->torch.Tensor:\n",
        "    self.out = torch.mm(x, self.weight)\n",
        "    if self.bias is not None:\n",
        "      self.out += self.bias\n",
        "    else:\n",
        "      self.out = self.out\n",
        "    return self.out\n",
        "  \n",
        "  def parameters(self):\n",
        "    return [self.weight] + ([] if self.bias is None else [self.bias])\n",
        "  \n",
        "class CatEmbedding:\n",
        "\n",
        "  def __init__(self, in_dim, em_dim):\n",
        "    self.weight = torch.randn(size = (in_dim, em_dim), generator = g)\n",
        "  \n",
        "  def __call__(self, IX: torch.Tensor)->torch.Tensor:\n",
        "    self.out = self.weight[IX]\n",
        "    return self.out\n",
        "  \n",
        "  def parameters(self):\n",
        "    return [self.weight]\n",
        "\n",
        "class Flatten:\n",
        "\n",
        "  def __call__(self, x: torch.Tensor)->torch.Tensor:\n",
        "    B, T, C = x.shape\n",
        "    x = x.view(B, -1)\n",
        "    self.out = x\n",
        "    return self.out\n",
        "  \n",
        "  def parameters(self):\n",
        "    return []\n",
        "\n",
        "class Tanh: \n",
        "  \n",
        "  def __call__(self, x: torch.Tensor)->torch.Tensor:\n",
        "    self.out = torch.tanh(x)\n",
        "    return self.out\n",
        "  \n",
        "  def parameters(self):\n",
        "    return []\n",
        "\n",
        "class BatchNorm1d:\n",
        "\n",
        "  def __init__(self, dim, eps = 1e-5, momentum = 0.1):\n",
        "\n",
        "    self.betta = torch.zeros(dim)\n",
        "    self.gamma = torch.ones(dim)\n",
        "    self.training = True\n",
        "    self.rn_mean = torch.zeros(dim)\n",
        "    self.rn_var = torch.ones(dim)\n",
        "    self.momentum = momentum\n",
        "    self.eps = eps\n",
        "  \n",
        "  def __call__(self, x: torch.Tensor)->torch.Tensor:\n",
        "\n",
        "    if self.training:\n",
        "      bn_mean = x.mean(dim = 0, keepdims = True)\n",
        "      bn_var = x.var(dim = 0, keepdims = True)\n",
        "    else:\n",
        "      bn_mean = self.rn_mean\n",
        "      bn_var = self.rn_var\n",
        "    \n",
        "    bn_raw = (x - bn_mean) / torch.sqrt(bn_var + self.eps)\n",
        "    self.out = self.gamma * bn_raw + self.betta\n",
        "\n",
        "    if self.training:\n",
        "      with torch.no_grad():\n",
        "        self.rn_mean = (1 - self.momentum) * self.rn_mean + self.momentum * bn_mean\n",
        "        self.rn_var = (1 - self.momentum) * self.rn_var + self.momentum * bn_var\n",
        "\n",
        "    return self.out\n",
        "  \n",
        "  def parameters(self):\n",
        "    return [self.betta, self.gamma]\n",
        "\n",
        "class Sequential:\n",
        "  \n",
        "  def __init__(self, layers):\n",
        "    self.layers = layers\n",
        "\n",
        "  def __call__(self, x: torch.Tensor)->torch.Tensor:\n",
        "    for layer in self.layers:\n",
        "      x = layer(x)\n",
        "      self.out = x\n",
        "    return self.out\n",
        "  \n",
        "  def parameters(self):\n",
        "    return []\n"
      ],
      "metadata": {
        "id": "IOmhFwN_iIpe"
      },
      "execution_count": 65,
      "outputs": []
    },
    {
      "cell_type": "code",
      "source": [],
      "metadata": {
        "id": "pgfqMXzHw-m6"
      },
      "execution_count": 65,
      "outputs": []
    },
    {
      "cell_type": "code",
      "source": [
        "file_path = \"/content/drive/MyDrive/Language models/makemore-master/names.txt\"\n",
        "names = open(file_path, \"r\").read().splitlines()\n",
        "chars = sorted(list(set(\"\".join(names))))\n",
        "stoi = {s: i + 1 for i, s in enumerate(chars)}\n",
        "stoi[\".\"] = 0\n",
        "itos = {i: s for s, i in stoi.items()}\n",
        "\n",
        "def wavenetDataset(n_list):\n",
        "\n",
        "  X, Y = [], []\n",
        "  block_size = 8\n",
        "\n",
        "  for name in n_list:\n",
        "    context = [0] * block_size\n",
        "    for ch in name + \".\":\n",
        "      idx = stoi[ch]\n",
        "      X.append(context)\n",
        "      Y.append(idx)\n",
        "      context = context[1:] + [idx]\n",
        "  X, Y = torch.tensor(X), torch.tensor(Y)\n",
        "  return X, Y\n",
        "\n",
        "random.seed(1234)\n",
        "random.shuffle(names)\n",
        "n1, n2 = int(0.8 * len(names)), int(0.9 * len(names))\n",
        "X_tr, Y_tr = wavenetDataset(names[:n1])\n",
        "X_dv, Y_dv = wavenetDataset(names[n1:n2])\n",
        "X_ts, Y_ts = wavenetDataset(names[n2:])\n",
        "\n",
        "print(f\">>>> X_tr shape: {X_tr.shape}, Y_tr shape: {Y_tr.shape}\\\n",
        "\\n>>>> X_dv shape: {X_dv.shape}, Y_dv shape: {Y_dv.shape}\\\n",
        "\\n>>>> X_ts shape: {X_ts.shape}, Y_ts shape: {Y_ts.shape}\")"
      ],
      "metadata": {
        "colab": {
          "base_uri": "https://localhost:8080/"
        },
        "id": "ix0qJZ13w-qZ",
        "outputId": "e9ee4292-7788-4d3b-b0de-e870afc75db4"
      },
      "execution_count": 66,
      "outputs": [
        {
          "output_type": "stream",
          "name": "stdout",
          "text": [
            ">>>> X_tr shape: torch.Size([182542, 8]), Y_tr shape: torch.Size([182542])\n",
            ">>>> X_dv shape: torch.Size([22823, 8]), Y_dv shape: torch.Size([22823])\n",
            ">>>> X_ts shape: torch.Size([22781, 8]), Y_ts shape: torch.Size([22781])\n"
          ]
        }
      ]
    },
    {
      "cell_type": "code",
      "source": [
        "g = torch.Generator().manual_seed(1234)\n",
        "in_dim, out_dim = len(stoi), len(itos)\n",
        "seq_len = 8\n",
        "em_dim = 10\n",
        "h_dim = 200\n"
      ],
      "metadata": {
        "id": "ZSTBA-_Tww2E"
      },
      "execution_count": 67,
      "outputs": []
    },
    {
      "cell_type": "code",
      "source": [
        "layers = [CatEmbedding(in_dim, em_dim), Flatten(), Linear(em_dim * seq_len, h_dim),\n",
        "          BatchNorm1d(h_dim), Tanh(),\n",
        "          Linear(h_dim, h_dim), BatchNorm1d(h_dim), Tanh(),\n",
        "          Linear(h_dim, h_dim), BatchNorm1d(h_dim), Tanh(),\n",
        "          Linear(h_dim, h_dim), BatchNorm1d(h_dim), Tanh(),\n",
        "          Linear(h_dim, h_dim), BatchNorm1d(h_dim), Tanh(),\n",
        "          Linear(h_dim, out_dim), BatchNorm1d(out_dim)]\n",
        "\n",
        "with torch.no_grad():\n",
        "  layers[-2].weight *= 0.1\n",
        "\n",
        "  for layer in layers[:-1]:\n",
        "    if isinstance(layer, Linear):\n",
        "      layer.weight *= 5 / 8"
      ],
      "metadata": {
        "id": "eT_W-FUe0A00"
      },
      "execution_count": 68,
      "outputs": []
    },
    {
      "cell_type": "code",
      "source": [
        "print(f\">>>> Total number of learnable parameters in the ntwork is: {sum(p.numel() for l in layers for p in l.parameters()):,}\")"
      ],
      "metadata": {
        "colab": {
          "base_uri": "https://localhost:8080/"
        },
        "id": "tvtICdf82Ie9",
        "outputId": "e822fe98-95ee-4710-c93f-e00531bbc584"
      },
      "execution_count": 69,
      "outputs": [
        {
          "output_type": "stream",
          "name": "stdout",
          "text": [
            ">>>> Total number of learnable parameters in the ntwork is: 184,751\n"
          ]
        }
      ]
    },
    {
      "cell_type": "code",
      "source": [
        "model = Sequential(layers)"
      ],
      "metadata": {
        "id": "rvQRYITf6iAC"
      },
      "execution_count": 70,
      "outputs": []
    },
    {
      "cell_type": "code",
      "source": [
        "EPOCHS = 100000\n",
        "losses = []\n",
        "steps = []"
      ],
      "metadata": {
        "id": "MqGD2m9V-Qoe"
      },
      "execution_count": 72,
      "outputs": []
    },
    {
      "cell_type": "code",
      "source": [
        "params = [p for l in model.layers for p in l.parameters()]\n",
        "for p in params:\n",
        "  p.requires_grad = True"
      ],
      "metadata": {
        "id": "vQjs_TTNEgje"
      },
      "execution_count": 73,
      "outputs": []
    },
    {
      "cell_type": "code",
      "source": [],
      "metadata": {
        "id": "2uiv_uoOFbe3"
      },
      "execution_count": 73,
      "outputs": []
    },
    {
      "cell_type": "code",
      "source": [
        "tic = timer()\n",
        "for epoch in tqdm(range(EPOCHS)):\n",
        "  ix = torch.randint(low = 0, high = len(X_tr), size = (BATCH_SIZE,))\n",
        "  xbatch, ybatch = X_tr[ix], Y_tr[ix]\n",
        "  # Forward pass:\n",
        "  logits = model(xbatch)\n",
        "\n",
        "  # loss\n",
        "  tr_loss = F.cross_entropy(logits, ybatch)\n",
        "  # if epoch % 1000 == 0:\n",
        "  #   print(f\">>>> Epoch: {epoch + 1 if epoch == 0 else epoch}: Train Loss: {tr_loss.item():.4f}\")\n",
        "  \n",
        "  for p in params:\n",
        "    p.grad = None\n",
        "\n",
        "  tr_loss.backward() # Pytorch auto-grad\n",
        "\n",
        "  LR = 0.1 if epoch < 60000 else 0.01\n",
        "  # stochastic gradient descent\n",
        "  for p in params:\n",
        "    p.data += -LR * p.grad \n",
        "  losses.append(tr_loss.item())\n",
        "  steps.append(epoch)\n"
      ],
      "metadata": {
        "colab": {
          "base_uri": "https://localhost:8080/",
          "height": 49,
          "referenced_widgets": [
            "9c5d6b5657104a6f95d0e40b55611b7f",
            "b829db3341fd42f6b1445160340693b0",
            "6ef1c4f99d2b4505b65ec81ce0952142",
            "c626bae5f5324041bdae57bcaa3fbf46",
            "3f4c351b7a7c42678876de8059d99dc4",
            "6c3d353e5f6444d2ac94da10fdb9fb82",
            "7f2fa8528f8744ba96b8435bb232b7db",
            "4cb1b8e5d55646b3b7fc8e295cf5bff7",
            "794f6f6e695b4d7493482c1128eea6a6",
            "8cf6c4cc0c854eb0b08b39d1a0777467",
            "8c2cb39cb5354b2485119c6663f679f0"
          ]
        },
        "id": "45ZyZKN_C8h9",
        "outputId": "12efb5a4-f1d1-4eb7-921b-6b5d3f42083f"
      },
      "execution_count": 74,
      "outputs": [
        {
          "output_type": "display_data",
          "data": {
            "text/plain": [
              "  0%|          | 0/100000 [00:00<?, ?it/s]"
            ],
            "application/vnd.jupyter.widget-view+json": {
              "version_major": 2,
              "version_minor": 0,
              "model_id": "9c5d6b5657104a6f95d0e40b55611b7f"
            }
          },
          "metadata": {}
        }
      ]
    },
    {
      "cell_type": "code",
      "source": [
        "plt.figure(figsize = (8, 10))\n",
        "sm_losses = torch.tensor(losses).view(-1, 1000).mean(dim = 1)\n",
        "plt.plot(sm_losses)\n",
        "plt.title(\"Smoothed train loss trajectory\")\n",
        "print(f\">>>> Average training loss achieved: {torch.tensor(losses).mean():.4f}\")\n",
        "toc = timer()\n",
        "print(f\">>>> Total time elapsed: {mytimer(toc - tic)}\")"
      ],
      "metadata": {
        "colab": {
          "base_uri": "https://localhost:8080/",
          "height": 887
        },
        "id": "KJpSFA5dGhJi",
        "outputId": "96e6be39-e440-45c5-9534-6015bc71db6e"
      },
      "execution_count": 75,
      "outputs": [
        {
          "output_type": "stream",
          "name": "stdout",
          "text": [
            ">>>> Average training loss achieved: 1.8774\n",
            ">>>> Total time elapsed: hrs: 0000, mins: 14, secs: 37.00\n"
          ]
        },
        {
          "output_type": "display_data",
          "data": {
            "text/plain": [
              "<Figure size 800x1000 with 1 Axes>"
            ],
            "image/png": "[encoded data removed]"
          },
          "metadata": {}
        }
      ]
    },
    {
      "cell_type": "code",
      "source": [
        "for layer in model.layers:\n",
        "  layer.training = False"
      ],
      "metadata": {
        "id": "Q8h1hDR5hCh-"
      },
      "execution_count": 76,
      "outputs": []
    },
    {
      "cell_type": "code",
      "source": [
        "with torch.no_grad():\n",
        "  logits_v = model(X_dv)\n",
        "  val_loss = F.cross_entropy(logits_v, Y_dv)\n",
        "  logits_t = model(X_ts)\n",
        "  ts_loss = F.cross_entropy(logits_t, Y_ts)\n",
        "  print(f\">>>> Validation Loss is: {val_loss.item():.4f}\\\n",
        "  \\n>>>> Testing loss is: {ts_loss.item():.4f}\")\n"
      ],
      "metadata": {
        "colab": {
          "base_uri": "https://localhost:8080/"
        },
        "id": "Zt1aj6LLIsND",
        "outputId": "f3d979f6-ac1b-4a61-cf18-b8f6711a74f5"
      },
      "execution_count": 77,
      "outputs": [
        {
          "output_type": "stream",
          "name": "stdout",
          "text": [
            ">>>> Validation Loss is: 2.0042  \n",
            ">>>> Testing loss is: 2.0264\n"
          ]
        }
      ]
    },
    {
      "cell_type": "code",
      "source": [
        "# Sampling from the network:\n",
        "for _ in range(30):\n",
        "  out = []\n",
        "  context = [0]* seq_len\n",
        "  while True:\n",
        "    model.training = False\n",
        "    logits = model(torch.tensor([context]))\n",
        "    probs = F.softmax(logits, dim = 1)\n",
        "    ix = torch.multinomial(input = probs, num_samples = 1).item()\n",
        "    context = context[1:] + [ix]\n",
        "    out.append(itos[ix])\n",
        "    if ix == 0:\n",
        "      break\n",
        "  print(f\">>>> Generated name : {''.join(out)}\")\n"
      ],
      "metadata": {
        "colab": {
          "base_uri": "https://localhost:8080/"
        },
        "id": "RULsoidBJtmZ",
        "outputId": "4255657c-4e82-496a-be89-d1062e47b4ee"
      },
      "execution_count": 78,
      "outputs": [
        {
          "output_type": "stream",
          "name": "stdout",
          "text": [
            ">>>> Generated name : feyton.\n",
            ">>>> Generated name : ridgen.\n",
            ">>>> Generated name : sincon.\n",
            ">>>> Generated name : karolon.\n",
            ">>>> Generated name : dwayk.\n",
            ">>>> Generated name : noop.\n",
            ">>>> Generated name : jozlyn.\n",
            ">>>> Generated name : jaseen.\n",
            ">>>> Generated name : uliva.\n",
            ">>>> Generated name : presleigh.\n",
            ">>>> Generated name : azaylynn.\n",
            ">>>> Generated name : aldin.\n",
            ">>>> Generated name : emmy.\n",
            ">>>> Generated name : meilin.\n",
            ">>>> Generated name : cyriselah.\n",
            ">>>> Generated name : ateela.\n",
            ">>>> Generated name : ryler.\n",
            ">>>> Generated name : emetty.\n",
            ">>>> Generated name : landri.\n",
            ">>>> Generated name : thanna.\n",
            ">>>> Generated name : hayleen.\n",
            ">>>> Generated name : princessl.\n",
            ">>>> Generated name : jephellne.\n",
            ">>>> Generated name : jin.\n",
            ">>>> Generated name : arell.\n",
            ">>>> Generated name : christopher.\n",
            ">>>> Generated name : gwendolere.\n",
            ">>>> Generated name : malajuh.\n",
            ">>>> Generated name : barasey.\n",
            ">>>> Generated name : adriemay.\n"
          ]
        }
      ]
    },
    {
      "cell_type": "code",
      "source": [
        "model = Sequential(layers)"
      ],
      "metadata": {
        "id": "e0xH_gIMDR0l"
      },
      "execution_count": 84,
      "outputs": []
    },
    {
      "cell_type": "code",
      "source": [
        "#model1 = Sequential(layers1)"
      ],
      "metadata": {
        "id": "nFvN_bTUFTry"
      },
      "execution_count": 85,
      "outputs": []
    },
    {
      "cell_type": "code",
      "source": [
        "for layer in model.layers:\n",
        "  print(f\">>>> {layer.__class__.__name__}: {tuple(layer.out.shape)}\")"
      ],
      "metadata": {
        "colab": {
          "base_uri": "https://localhost:8080/"
        },
        "id": "5XcHhTdCMKS3",
        "outputId": "67df4c15-12e5-4a8e-d5b3-f273f6939013"
      },
      "execution_count": 86,
      "outputs": [
        {
          "output_type": "stream",
          "name": "stdout",
          "text": [
            ">>>> CatEmbedding: (1, 8, 10)\n",
            ">>>> Flatten: (1, 80)\n",
            ">>>> Linear: (1, 200)\n",
            ">>>> BatchNorm1d: (1, 200)\n",
            ">>>> Tanh: (1, 200)\n",
            ">>>> Linear: (1, 200)\n",
            ">>>> BatchNorm1d: (1, 200)\n",
            ">>>> Tanh: (1, 200)\n",
            ">>>> Linear: (1, 200)\n",
            ">>>> BatchNorm1d: (1, 200)\n",
            ">>>> Tanh: (1, 200)\n",
            ">>>> Linear: (1, 200)\n",
            ">>>> BatchNorm1d: (1, 200)\n",
            ">>>> Tanh: (1, 200)\n",
            ">>>> Linear: (1, 200)\n",
            ">>>> BatchNorm1d: (1, 200)\n",
            ">>>> Tanh: (1, 200)\n",
            ">>>> Linear: (1, 27)\n",
            ">>>> BatchNorm1d: (1, 27)\n"
          ]
        }
      ]
    },
    {
      "cell_type": "code",
      "source": [],
      "metadata": {
        "id": "PTSlnSS1ZMnZ"
      },
      "execution_count": null,
      "outputs": []
    }
  ],
  "metadata": {
    "colab": {
      "provenance": [],
      "authorship_tag": "ABX9TyOv22ZtMDr0TwOb45Cz9vZK",
      "include_colab_link": true
    },
    "kernelspec": {
      "display_name": "Python 3",
      "name": "python3"
    },
    "language_info": {
      "name": "python"
    },
    "widgets": {
      "application/vnd.jupyter.widget-state+json": {
        "9c5d6b5657104a6f95d0e40b55611b7f": {
          "model_module": "@jupyter-widgets/controls",
          "model_name": "HBoxModel",
          "model_module_version": "1.5.0",
          "state": {
            "_dom_classes": [],
            "_model_module": "@jupyter-widgets/controls",
            "_model_module_version": "1.5.0",
            "_model_name": "HBoxModel",
            "_view_count": null,
            "_view_module": "@jupyter-widgets/controls",
            "_view_module_version": "1.5.0",
            "_view_name": "HBoxView",
            "box_style": "",
            "children": [
              "IPY_MODEL_b829db3341fd42f6b1445160340693b0",
              "IPY_MODEL_6ef1c4f99d2b4505b65ec81ce0952142",
              "IPY_MODEL_c626bae5f5324041bdae57bcaa3fbf46"
            ],
            "layout": "IPY_MODEL_3f4c351b7a7c42678876de8059d99dc4"
          }
        },
        "b829db3341fd42f6b1445160340693b0": {
          "model_module": "@jupyter-widgets/controls",
          "model_name": "HTMLModel",
          "model_module_version": "1.5.0",
          "state": {
            "_dom_classes": [],
            "_model_module": "@jupyter-widgets/controls",
            "_model_module_version": "1.5.0",
            "_model_name": "HTMLModel",
            "_view_count": null,
            "_view_module": "@jupyter-widgets/controls",
            "_view_module_version": "1.5.0",
            "_view_name": "HTMLView",
            "description": "",
            "description_tooltip": null,
            "layout": "IPY_MODEL_6c3d353e5f6444d2ac94da10fdb9fb82",
            "placeholder": "​",
            "style": "IPY_MODEL_7f2fa8528f8744ba96b8435bb232b7db",
            "value": "100%"
          }
        },
        "6ef1c4f99d2b4505b65ec81ce0952142": {
          "model_module": "@jupyter-widgets/controls",
          "model_name": "FloatProgressModel",
          "model_module_version": "1.5.0",
          "state": {
            "_dom_classes": [],
            "_model_module": "@jupyter-widgets/controls",
            "_model_module_version": "1.5.0",
            "_model_name": "FloatProgressModel",
            "_view_count": null,
            "_view_module": "@jupyter-widgets/controls",
            "_view_module_version": "1.5.0",
            "_view_name": "ProgressView",
            "bar_style": "success",
            "description": "",
            "description_tooltip": null,
            "layout": "IPY_MODEL_4cb1b8e5d55646b3b7fc8e295cf5bff7",
            "max": 100000,
            "min": 0,
            "orientation": "horizontal",
            "style": "IPY_MODEL_794f6f6e695b4d7493482c1128eea6a6",
            "value": 100000
          }
        },
        "c626bae5f5324041bdae57bcaa3fbf46": {
          "model_module": "@jupyter-widgets/controls",
          "model_name": "HTMLModel",
          "model_module_version": "1.5.0",
          "state": {
            "_dom_classes": [],
            "_model_module": "@jupyter-widgets/controls",
            "_model_module_version": "1.5.0",
            "_model_name": "HTMLModel",
            "_view_count": null,
            "_view_module": "@jupyter-widgets/controls",
            "_view_module_version": "1.5.0",
            "_view_name": "HTMLView",
            "description": "",
            "description_tooltip": null,
            "layout": "IPY_MODEL_8cf6c4cc0c854eb0b08b39d1a0777467",
            "placeholder": "​",
            "style": "IPY_MODEL_8c2cb39cb5354b2485119c6663f679f0",
            "value": " 100000/100000 [14:28&lt;00:00, 89.36it/s]"
          }
        },
        "3f4c351b7a7c42678876de8059d99dc4": {
          "model_module": "@jupyter-widgets/base",
          "model_name": "LayoutModel",
          "model_module_version": "1.2.0",
          "state": {
            "_model_module": "@jupyter-widgets/base",
            "_model_module_version": "1.2.0",
            "_model_name": "LayoutModel",
            "_view_count": null,
            "_view_module": "@jupyter-widgets/base",
            "_view_module_version": "1.2.0",
            "_view_name": "LayoutView",
            "align_content": null,
            "align_items": null,
            "align_self": null,
            "border": null,
            "bottom": null,
            "display": null,
            "flex": null,
            "flex_flow": null,
            "grid_area": null,
            "grid_auto_columns": null,
            "grid_auto_flow": null,
            "grid_auto_rows": null,
            "grid_column": null,
            "grid_gap": null,
            "grid_row": null,
            "grid_template_areas": null,
            "grid_template_columns": null,
            "grid_template_rows": null,
            "height": null,
            "justify_content": null,
            "justify_items": null,
            "left": null,
            "margin": null,
            "max_height": null,
            "max_width": null,
            "min_height": null,
            "min_width": null,
            "object_fit": null,
            "object_position": null,
            "order": null,
            "overflow": null,
            "overflow_x": null,
            "overflow_y": null,
            "padding": null,
            "right": null,
            "top": null,
            "visibility": null,
            "width": null
          }
        },
        "6c3d353e5f6444d2ac94da10fdb9fb82": {
          "model_module": "@jupyter-widgets/base",
          "model_name": "LayoutModel",
          "model_module_version": "1.2.0",
          "state": {
            "_model_module": "@jupyter-widgets/base",
            "_model_module_version": "1.2.0",
            "_model_name": "LayoutModel",
            "_view_count": null,
            "_view_module": "@jupyter-widgets/base",
            "_view_module_version": "1.2.0",
            "_view_name": "LayoutView",
            "align_content": null,
            "align_items": null,
            "align_self": null,
            "border": null,
            "bottom": null,
            "display": null,
            "flex": null,
            "flex_flow": null,
            "grid_area": null,
            "grid_auto_columns": null,
            "grid_auto_flow": null,
            "grid_auto_rows": null,
            "grid_column": null,
            "grid_gap": null,
            "grid_row": null,
            "grid_template_areas": null,
            "grid_template_columns": null,
            "grid_template_rows": null,
            "height": null,
            "justify_content": null,
            "justify_items": null,
            "left": null,
            "margin": null,
            "max_height": null,
            "max_width": null,
            "min_height": null,
            "min_width": null,
            "object_fit": null,
            "object_position": null,
            "order": null,
            "overflow": null,
            "overflow_x": null,
            "overflow_y": null,
            "padding": null,
            "right": null,
            "top": null,
            "visibility": null,
            "width": null
          }
        },
        "7f2fa8528f8744ba96b8435bb232b7db": {
          "model_module": "@jupyter-widgets/controls",
          "model_name": "DescriptionStyleModel",
          "model_module_version": "1.5.0",
          "state": {
            "_model_module": "@jupyter-widgets/controls",
            "_model_module_version": "1.5.0",
            "_model_name": "DescriptionStyleModel",
            "_view_count": null,
            "_view_module": "@jupyter-widgets/base",
            "_view_module_version": "1.2.0",
            "_view_name": "StyleView",
            "description_width": ""
          }
        },
        "4cb1b8e5d55646b3b7fc8e295cf5bff7": {
          "model_module": "@jupyter-widgets/base",
          "model_name": "LayoutModel",
          "model_module_version": "1.2.0",
          "state": {
            "_model_module": "@jupyter-widgets/base",
            "_model_module_version": "1.2.0",
            "_model_name": "LayoutModel",
            "_view_count": null,
            "_view_module": "@jupyter-widgets/base",
            "_view_module_version": "1.2.0",
            "_view_name": "LayoutView",
            "align_content": null,
            "align_items": null,
            "align_self": null,
            "border": null,
            "bottom": null,
            "display": null,
            "flex": null,
            "flex_flow": null,
            "grid_area": null,
            "grid_auto_columns": null,
            "grid_auto_flow": null,
            "grid_auto_rows": null,
            "grid_column": null,
            "grid_gap": null,
            "grid_row": null,
            "grid_template_areas": null,
            "grid_template_columns": null,
            "grid_template_rows": null,
            "height": null,
            "justify_content": null,
            "justify_items": null,
            "left": null,
            "margin": null,
            "max_height": null,
            "max_width": null,
            "min_height": null,
            "min_width": null,
            "object_fit": null,
            "object_position": null,
            "order": null,
            "overflow": null,
            "overflow_x": null,
            "overflow_y": null,
            "padding": null,
            "right": null,
            "top": null,
            "visibility": null,
            "width": null
          }
        },
        "794f6f6e695b4d7493482c1128eea6a6": {
          "model_module": "@jupyter-widgets/controls",
          "model_name": "ProgressStyleModel",
          "model_module_version": "1.5.0",
          "state": {
            "_model_module": "@jupyter-widgets/controls",
            "_model_module_version": "1.5.0",
            "_model_name": "ProgressStyleModel",
            "_view_count": null,
            "_view_module": "@jupyter-widgets/base",
            "_view_module_version": "1.2.0",
            "_view_name": "StyleView",
            "bar_color": null,
            "description_width": ""
          }
        },
        "8cf6c4cc0c854eb0b08b39d1a0777467": {
          "model_module": "@jupyter-widgets/base",
          "model_name": "LayoutModel",
          "model_module_version": "1.2.0",
          "state": {
            "_model_module": "@jupyter-widgets/base",
            "_model_module_version": "1.2.0",
            "_model_name": "LayoutModel",
            "_view_count": null,
            "_view_module": "@jupyter-widgets/base",
            "_view_module_version": "1.2.0",
            "_view_name": "LayoutView",
            "align_content": null,
            "align_items": null,
            "align_self": null,
            "border": null,
            "bottom": null,
            "display": null,
            "flex": null,
            "flex_flow": null,
            "grid_area": null,
            "grid_auto_columns": null,
            "grid_auto_flow": null,
            "grid_auto_rows": null,
            "grid_column": null,
            "grid_gap": null,
            "grid_row": null,
            "grid_template_areas": null,
            "grid_template_columns": null,
            "grid_template_rows": null,
            "height": null,
            "justify_content": null,
            "justify_items": null,
            "left": null,
            "margin": null,
            "max_height": null,
            "max_width": null,
            "min_height": null,
            "min_width": null,
            "object_fit": null,
            "object_position": null,
            "order": null,
            "overflow": null,
            "overflow_x": null,
            "overflow_y": null,
            "padding": null,
            "right": null,
            "top": null,
            "visibility": null,
            "width": null
          }
        },
        "8c2cb39cb5354b2485119c6663f679f0": {
          "model_module": "@jupyter-widgets/controls",
          "model_name": "DescriptionStyleModel",
          "model_module_version": "1.5.0",
          "state": {
            "_model_module": "@jupyter-widgets/controls",
            "_model_module_version": "1.5.0",
            "_model_name": "DescriptionStyleModel",
            "_view_count": null,
            "_view_module": "@jupyter-widgets/base",
            "_view_module_version": "1.2.0",
            "_view_name": "StyleView",
            "description_width": ""
          }
        }
      }
    }
  },
  "nbformat": 4,
  "nbformat_minor": 0
}