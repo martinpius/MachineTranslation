{
  "cells": [
    {
      "cell_type": "markdown",
      "metadata": {
        "id": "view-in-github",
        "colab_type": "text"
      },
      "source": [
        "<a href=\"https://colab.research.google.com/github/martinpius/MachineTranslation/blob/main/nanoGPT.ipynb\" target=\"_parent\"><img src=\"https://colab.research.google.com/assets/colab-badge.svg\" alt=\"Open In Colab\"/></a>"
      ]
    },
    {
      "cell_type": "code",
      "source": [
        "from timeit import default_timer as timer\n",
        "t1 = timer()\n",
        "try:\n",
        "  from google.colab import drive\n",
        "  drive.mount(\"/content/drive/\", force_remount = True)\n",
        "  import torch\n",
        "  from torch import nn, optim\n",
        "  import torch.nn.functional as F\n",
        "  from tqdm.auto import tqdm\n",
        "  import matplotlib.pyplot as plt\n",
        "  print(f\">>>> You are in CoLaB with torch version: {torch.__version__}\")\n",
        "except Exception as e:\n",
        "  print(f\">>>> {type(e)}: {e}\\n>>>> Please correct {type(e)} and reload\")\n",
        "device = torch.device(\"cuda\") if torch.cuda.is_available() else torch.device(\"cpu\")\n",
        "print(f\">>>> Available device: {device}\")\n",
        "BATCH_SIZE = 64 if device == torch.device(\"cuda\") else 32\n",
        "def mytimer(t: float = timer())->float:\n",
        "  h = int(t / (60 * 60))\n",
        "  m = int(t % (60 * 60) / 60)\n",
        "  s = int(t % 60)\n",
        "  return f\"hrs: {h:04}, mins: {m:>02}, secs: {s:>05.2f}\"\n",
        "print(f\">>>> Time elapsed \\t {mytimer(timer() - t1)}\")"
      ],
      "metadata": {
        "colab": {
          "base_uri": "https://localhost:8080/"
        },
        "id": "AyNj0Wv_iyhE",
        "outputId": "fd43e6fe-f6ff-49e3-cccd-c1206fe39c3a"
      },
      "execution_count": 1,
      "outputs": [
        {
          "output_type": "stream",
          "name": "stdout",
          "text": [
            "Mounted at /content/drive/\n",
            ">>>> You are in CoLaB with torch version: 2.0.1+cu118\n",
            ">>>> Available device: cuda\n",
            ">>>> Time elapsed \t hrs: 0000, mins: 00, secs: 30.00\n"
          ]
        }
      ]
    },
    {
      "cell_type": "code",
      "source": [
        "!wget https://raw.githubusercontent.com/karpathy/char-rnn/master/data/tinyshakespeare/input.txt\n",
        "with open(\"input.txt\", \"r\", encoding = \"utf-8\") as f:\n",
        "  text = f.read()\n",
        "print(f\">>>> The first 1000 characters are:\\n\\n {text[:1000]}\")"
      ],
      "metadata": {
        "colab": {
          "base_uri": "https://localhost:8080/"
        },
        "id": "woD6RuYjkk8v",
        "outputId": "e8982cc5-dce2-46fd-8591-4d6fbf78f70a"
      },
      "execution_count": 2,
      "outputs": [
        {
          "output_type": "stream",
          "name": "stdout",
          "text": [
            "--2023-07-15 19:11:23--  https://raw.githubusercontent.com/karpathy/char-rnn/master/data/tinyshakespeare/input.txt\n",
            "Resolving raw.githubusercontent.com (raw.githubusercontent.com)... 185.199.109.133, 185.199.108.133, 185.199.110.133, ...\n",
            "Connecting to raw.githubusercontent.com (raw.githubusercontent.com)|185.199.109.133|:443... connected.\n",
            "HTTP request sent, awaiting response... 200 OK\n",
            "Length: 1115394 (1.1M) [text/plain]\n",
            "Saving to: ‘input.txt’\n",
            "\n",
            "input.txt           100%[===================>]   1.06M  --.-KB/s    in 0.02s   \n",
            "\n",
            "2023-07-15 19:11:23 (55.9 MB/s) - ‘input.txt’ saved [1115394/1115394]\n",
            "\n",
            ">>>> The first 1000 characters are:\n",
            "\n",
            " First Citizen:\n",
            "Before we proceed any further, hear me speak.\n",
            "\n",
            "All:\n",
            "Speak, speak.\n",
            "\n",
            "First Citizen:\n",
            "You are all resolved rather to die than to famish?\n",
            "\n",
            "All:\n",
            "Resolved. resolved.\n",
            "\n",
            "First Citizen:\n",
            "First, you know Caius Marcius is chief enemy to the people.\n",
            "\n",
            "All:\n",
            "We know't, we know't.\n",
            "\n",
            "First Citizen:\n",
            "Let us kill him, and we'll have corn at our own price.\n",
            "Is't a verdict?\n",
            "\n",
            "All:\n",
            "No more talking on't; let it be done: away, away!\n",
            "\n",
            "Second Citizen:\n",
            "One word, good citizens.\n",
            "\n",
            "First Citizen:\n",
            "We are accounted poor citizens, the patricians good.\n",
            "What authority surfeits on would relieve us: if they\n",
            "would yield us but the superfluity, while it were\n",
            "wholesome, we might guess they relieved us humanely;\n",
            "but they think we are too dear: the leanness that\n",
            "afflicts us, the object of our misery, is as an\n",
            "inventory to particularise their abundance; our\n",
            "sufferance is a gain to them Let us revenge this with\n",
            "our pikes, ere we become rakes: for the gods know I\n",
            "speak this in hunger for bread, not in thirst for revenge.\n",
            "\n",
            "\n"
          ]
        }
      ]
    },
    {
      "cell_type": "code",
      "source": [
        "chars = sorted(list(set(text)))\n",
        "voc_size = len(chars)\n",
        "print(f\">>>> There are {voc_size} unique characters in the dataset which are: {''.join(chars)}\")"
      ],
      "metadata": {
        "colab": {
          "base_uri": "https://localhost:8080/"
        },
        "id": "pWEyryv2lEK0",
        "outputId": "2219c737-4761-4188-d2f4-41141311366d"
      },
      "execution_count": 3,
      "outputs": [
        {
          "output_type": "stream",
          "name": "stdout",
          "text": [
            ">>>> There are 65 unique characters in the dataset which are: \n",
            " !$&',-.3:;?ABCDEFGHIJKLMNOPQRSTUVWXYZabcdefghijklmnopqrstuvwxyz\n"
          ]
        }
      ]
    },
    {
      "cell_type": "code",
      "source": [
        "stoi = {s: i for i, s in enumerate(chars)}\n",
        "itos = {i: s for s, i in stoi.items()}\n",
        "encode = lambda s: [stoi[i] for i in s]\n",
        "decode = lambda l: \"\".join(itos[i] for i in l)\n",
        "ts = \"Hello, there!\"\n",
        "print(f\">>>> When the text is : {ts}, The encoding is: {encode(ts)}\")\n",
        "print(f\">>>> When the token indices are: {encode(ts)}: The text is: {decode(encode(ts))}\")"
      ],
      "metadata": {
        "colab": {
          "base_uri": "https://localhost:8080/"
        },
        "id": "Q6d18ghcldNf",
        "outputId": "97d8238a-0e75-4867-f200-55cc22678a8b"
      },
      "execution_count": 4,
      "outputs": [
        {
          "output_type": "stream",
          "name": "stdout",
          "text": [
            ">>>> When the text is : Hello, there!, The encoding is: [20, 43, 50, 50, 53, 6, 1, 58, 46, 43, 56, 43, 2]\n",
            ">>>> When the token indices are: [20, 43, 50, 50, 53, 6, 1, 58, 46, 43, 56, 43, 2]: The text is: Hello, there!\n"
          ]
        }
      ]
    },
    {
      "cell_type": "code",
      "source": [
        "n = int(len(text)*0.9)\n",
        "data = torch.tensor(encode(text), dtype = torch.long)\n",
        "train, dev = data[:n], data[n:]"
      ],
      "metadata": {
        "id": "_uvNNbB2mgmT"
      },
      "execution_count": 5,
      "outputs": []
    },
    {
      "cell_type": "code",
      "source": [],
      "metadata": {
        "id": "4vDxCGIqmgpO"
      },
      "execution_count": 5,
      "outputs": []
    },
    {
      "cell_type": "code",
      "source": [
        "# Hyperparameters\n",
        "EPOCHS = 5000\n",
        "max_eval_iters = 200\n",
        "eval_iters = 500\n",
        "LR = 3e-4\n",
        "block_size = 256\n",
        "embed_size = 384\n",
        "n_heads = 6\n",
        "n_layers = 6\n",
        "dropout = 0.2"
      ],
      "metadata": {
        "id": "BbmFpbT3nBpj"
      },
      "execution_count": 6,
      "outputs": []
    },
    {
      "cell_type": "code",
      "source": [],
      "metadata": {
        "id": "tJA2t43nnBzM"
      },
      "execution_count": 6,
      "outputs": []
    },
    {
      "cell_type": "code",
      "source": [
        "def get_data(split):\n",
        "  data = train if split == \"train\" else dev\n",
        "  ix = torch.randint(len(data) - block_size, (BATCH_SIZE,))\n",
        "  xbatch = torch.stack([data[i : i + block_size] for i in ix])\n",
        "  ybatch = torch.stack([data[i + 1: i + block_size + 1] for i in ix])\n",
        "  xbatch, ybatch = xbatch.to(device), ybatch.to(device)\n",
        "  return xbatch, ybatch\n",
        "xbatch, ybatch = get_data(\"train\")\n",
        "print(f\">>>> xbatch shape: {xbatch.shape}, ybatch shape: {ybatch.shape}\")\n",
        "\n",
        "for b in range(4):\n",
        "  for t in range(block_size):\n",
        "    context = xbatch[b, :t + 1]\n",
        "    target = ybatch[b, t]\n",
        "    #print(f\">>>> When the context is {context}, the target is {target}\")"
      ],
      "metadata": {
        "colab": {
          "base_uri": "https://localhost:8080/"
        },
        "id": "GhqptZZBmTfY",
        "outputId": "e8823a0d-3051-4cb9-c35c-f07c51c66e01"
      },
      "execution_count": 7,
      "outputs": [
        {
          "output_type": "stream",
          "name": "stdout",
          "text": [
            ">>>> xbatch shape: torch.Size([64, 256]), ybatch shape: torch.Size([64, 256])\n"
          ]
        }
      ]
    },
    {
      "cell_type": "code",
      "source": [
        "class SelfAttention(nn.Module):\n",
        "\n",
        "  def __init__(self, head_size)->None:\n",
        "    super().__init__()\n",
        "    self.q = nn.Linear(embed_size, head_size, bias = False)\n",
        "    self.k = nn.Linear(embed_size, head_size, bias = False)\n",
        "    self.v = nn.Linear(embed_size, head_size, bias = False)\n",
        "    self.dropout = nn.Dropout(dropout)\n",
        "    self.register_buffer(\"tril\", torch.tril(torch.ones(block_size, block_size)))\n",
        "\n",
        "  def forward(self, x: torch.Tensor)->torch.Tensor:\n",
        "    # x ==> output from embedding\n",
        "    B, T, C = x.shape # shape ==> [BATCH_SIZE, block_size, embed_size]\n",
        "    Q = self.q(x) # shape ==> [B, T, head_size]\n",
        "    K = self.k(x)# shape ==> [B, T, head_size]\n",
        "    V = self.v(x) # shape ==> [B, T, head_size]\n",
        "    wei = Q @ K.transpose(-2, -1) * C**-0.5 # shape ==> [B, T, T] // scaled attention\n",
        "    wei = wei.masked_fill(self.tril[:T, :T] == 0, float(\"-inf\"))\n",
        "    wei = F.softmax(wei, dim = -1) # shape ==> [B, T, T]\n",
        "    wei = self.dropout(wei)\n",
        "    out = wei @ V # shape ==> [B, T, head_size == embed_size]\n",
        "    return out\n",
        ""
      ],
      "metadata": {
        "id": "yNHPSyV8oyhE"
      },
      "execution_count": 8,
      "outputs": []
    },
    {
      "cell_type": "code",
      "source": [
        "X = torch.randn(size = (BATCH_SIZE, block_size, embed_size), device = device)\n",
        "attn = SelfAttention(embed_size).to(device = device)\n",
        "print(f\">>>> Output shape: {attn(X).shape}\")"
      ],
      "metadata": {
        "colab": {
          "base_uri": "https://localhost:8080/"
        },
        "id": "5MQ9g0SAsY6f",
        "outputId": "f918e3c7-2c7b-4f89-b822-7dbe62f3edd8"
      },
      "execution_count": 9,
      "outputs": [
        {
          "output_type": "stream",
          "name": "stdout",
          "text": [
            ">>>> Output shape: torch.Size([64, 256, 384])\n"
          ]
        }
      ]
    },
    {
      "cell_type": "code",
      "source": [
        "class MultiHead(nn.Module):\n",
        "\n",
        "  def __init__(self, head_size, n_heads)->None:\n",
        "    super().__init__()\n",
        "    assert head_size == embed_size // n_heads\n",
        "    self.multihead = nn.ModuleList([SelfAttention(head_size) for _ in range(n_heads)])\n",
        "    self.projection = nn.Linear(embed_size, embed_size)\n",
        "    self.dropout = nn.Dropout(dropout)\n",
        "\n",
        "  def forward(self, x: torch.Tensor)->torch.Tensor:\n",
        "    h_out = torch.cat([h(x) for h in self.multihead], dim = -1)\n",
        "    h_out = self.dropout(self.projection(h_out))\n",
        "    return h_out\n",
        ""
      ],
      "metadata": {
        "id": "KaFCH_o_szR3"
      },
      "execution_count": 10,
      "outputs": []
    },
    {
      "cell_type": "code",
      "source": [
        "mld = MultiHead(embed_size // n_heads, n_heads).to(device)\n",
        "print(f\">>>> MultiHead attention output shape: {mld(X).shape}\")"
      ],
      "metadata": {
        "colab": {
          "base_uri": "https://localhost:8080/"
        },
        "id": "VDFWbRu6upKP",
        "outputId": "9b202d1e-da21-4cae-b415-eed71173c9e8"
      },
      "execution_count": 11,
      "outputs": [
        {
          "output_type": "stream",
          "name": "stdout",
          "text": [
            ">>>> MultiHead attention output shape: torch.Size([64, 256, 384])\n"
          ]
        }
      ]
    },
    {
      "cell_type": "code",
      "source": [
        "class Computations(nn.Module):\n",
        "\n",
        "  def __init__(self, embed_size)->None:\n",
        "    super().__init__()\n",
        "    self.feednets = nn.Sequential(\n",
        "        nn.Linear(embed_size, 4*embed_size),\n",
        "        nn.ReLU(),\n",
        "        nn.Linear(4*embed_size, embed_size),\n",
        "        nn.Dropout(dropout))\n",
        "\n",
        "  def forward(self, x: torch.Tensor)->torch.Tensor:\n",
        "    # x output from multi-head attention [B, T, C]\n",
        "    return self.feednets(x)"
      ],
      "metadata": {
        "id": "HRUxGGbevOK3"
      },
      "execution_count": 12,
      "outputs": []
    },
    {
      "cell_type": "code",
      "source": [
        "class TransformerBlock(nn.Module):\n",
        "\n",
        "  def __init__(self, embed_size, n_heads)->None:\n",
        "    super().__init__()\n",
        "    head_size = embed_size // n_heads\n",
        "    self.comm = MultiHead(head_size, n_heads)\n",
        "    self.comp = Computations(embed_size)\n",
        "    self.ln1 = nn.LayerNorm(embed_size)\n",
        "    self.ln2 = nn.LayerNorm(embed_size)\n",
        "\n",
        "  def forward(self, x: torch.Tensor)->torch.Tensor:\n",
        "    x = x + self.comm(self.ln1(x))\n",
        "    x = x + self.comp(self.ln2(x))\n",
        "    return x\n"
      ],
      "metadata": {
        "id": "plZQWhVKv_ZD"
      },
      "execution_count": 13,
      "outputs": []
    },
    {
      "cell_type": "code",
      "source": [
        "class NanoGPT(nn.Module):\n",
        "\n",
        "  def __init__(self, voc_size, embed_size)->None:\n",
        "    super().__init__()\n",
        "    self.CatEmbedding = nn.Embedding(voc_size, embed_size)\n",
        "    self.posEmbedding = nn.Embedding(block_size, embed_size)\n",
        "    self.trf_blocks = nn.Sequential(*[TransformerBlock(embed_size, n_heads) for _ in range(n_layers)])\n",
        "    self.ln = nn.LayerNorm(embed_size)\n",
        "    self.fc = nn.Linear(embed_size, voc_size)\n",
        "\n",
        "  def forward(self, x: torch.Tensor, target: torch.Tensor = None)->torch.Tensor:\n",
        "    # x, target shapes ==> [B, block_size]==> context and target\n",
        "    B, T = x.shape # unpacking the dimensions\n",
        "    catEmb = self.CatEmbedding(x) # shape ==> [B, T = block_size, embed_size = C]\n",
        "    pos = self.posEmbedding(torch.arange(T, device = device)) # shape ==> [block_size = T, embed_size = C]\n",
        "    x = catEmb + pos # shape ==> [B, T, C]\n",
        "    x = self.trf_blocks(x) # shape ==> [B, T, C]\n",
        "    x = self.ln(x) # shape ==> [B, T, C]\n",
        "    logits = self.fc(x) # shape ==> [B, T, C]\n",
        "\n",
        "    if target is None:\n",
        "      loss = None\n",
        "    else:\n",
        "      B, T, C = logits.shape\n",
        "      logits, target = logits.view(B*T, C), target.view(-1) # Reshapping for CE loss computation\n",
        "      loss = F.cross_entropy(logits, target)\n",
        "    return loss, logits\n",
        "\n",
        "  def texts_generator(self, idx: torch.Tensor, max_tokens: int = 1000)->torch.Tensor:\n",
        "    # idx is a current context with shape [B, T] same as input\n",
        "    # max_tokens: maximum characters to generate\n",
        "    for _ in range(max_tokens):\n",
        "      idx_ = idx[:, -block_size:] # clipping to the max of block size only since we apppends new tokens\n",
        "      loss, logits = self(idx_)\n",
        "      logits = logits[:, -1,:] # shape ==> [B, C] Fetching the last time step== predicted token\n",
        "      probs = F.softmax(logits, dim = -1) # Get the probs value for possibility of any token comming next [vocab_size in dim]\n",
        "      idx_next = torch.multinomial(probs, num_samples = 1) # shape ==> [B, 1] # Selecting the index coresponding to the next token\n",
        "      idx = torch.cat((idx, idx_next), dim = 1) # shape ==> [B, T + 1] appending the new char to the context and repeat the proc\n",
        "\n",
        "    return idx\n",
        "\n"
      ],
      "metadata": {
        "id": "17R7e1AMxUz2"
      },
      "execution_count": 14,
      "outputs": []
    },
    {
      "cell_type": "code",
      "source": [
        "model = NanoGPT(voc_size, embed_size).to(device = device)\n",
        "loss, logits = model(xbatch, ybatch)\n",
        "print(f\">>>> Logits shape: {logits.shape}, Loss for the untrained model: {loss:.4f}\")\n",
        "print(f\">>>> Total number of trainable parameters in this model: {sum(p.numel() for p in model.parameters()):,}\")"
      ],
      "metadata": {
        "colab": {
          "base_uri": "https://localhost:8080/"
        },
        "id": "OKS64JFV2vh7",
        "outputId": "28f7320c-7708-4ce8-88a3-a0fc8450e9f8"
      },
      "execution_count": 15,
      "outputs": [
        {
          "output_type": "stream",
          "name": "stdout",
          "text": [
            ">>>> Logits shape: torch.Size([16384, 65]), Loss for the untrained model: 4.3161\n",
            ">>>> Total number of trainable parameters in this model: 10,788,929\n"
          ]
        }
      ]
    },
    {
      "cell_type": "code",
      "source": [
        "print(f\">>>> Texts generated by the untrained nanoGPT:\\n\\n\\\n",
        "{''.join(decode(model.texts_generator(idx = torch.zeros(size = (1,1), dtype = torch.long, device = device))[0].tolist()))}\")"
      ],
      "metadata": {
        "colab": {
          "base_uri": "https://localhost:8080/"
        },
        "id": "zrlCtQnD2lod",
        "outputId": "d982839b-537c-4ff8-e91e-d52f685395dc"
      },
      "execution_count": 16,
      "outputs": [
        {
          "output_type": "stream",
          "name": "stdout",
          "text": [
            ">>>> Texts generated by the untrained nanoGPT:\n",
            "\n",
            "\n",
            ".imuJV3bttKAz;Er;pyJk?APotb\n",
            "WzLMI?LjKu3;QxVkB.Vj$WBAJf!gqkWv,iv'ay;B; TlVP.nGC:Rhb-V$W.k?.kPexvn!QQJQ$,&n?ghRWzEKgta.btGy:c'prJt;tIMQVHUaGIh&GRaOd$haMswPFdAt\n",
            ",By3aCaKI:D&Qy;Ce S-?i$kaNUa'mguEN;bZoEZNEgf\n",
            "na&XxyK,3pGnndrYdIco?:YWuCgCjeZ,DAtqsIk3DsDZ,hLHVJNkzRdvJW,MmAl3rcb.ruA-EYCG-gyhKG IBARgQJLIUAFPy$:$Zvm\n",
            "TyQshoiH&XVnv!Vy&A?.rPWQvN$o\n",
            "d. AB!HLZQvBL;','\n",
            "VyNl'xi.uehazCLIov r3!tN$YjW!I\n",
            "Jj$RGw;yGdvtIvf&Fe cRC-BJaO.QSHAypSd:YLoH;l;.PGSgCPdgZlyLpWgtZCABhtJtFce$xEnLIKggesFgV\n",
            "m'QdyPsLHp!ZIw$ws.hRsYyNFKxh;ALNs ZnL U!twTJt!zbdSvRLIVEwvoB!m!s,KAv3\n",
            "IFlFgmkGQA:dpktWs,AoeEcGB;.Xg\n",
            "v;A ?uHQZABVIBIQbGyg,TE&SzdIa!nO\n",
            "Clh-FpA,'wPN pV3CrfAB\n",
            "TirR?hB; IAQYgAIs'WWIN:GJ?'\n",
            "viNp?l\n",
            "d$pvbv$tIL!O',rSpo,VxnO.?ydInTPC$td;l!sLI3dwGke'URGHPBATCd'pVnrzgZz'hv3vHZIEYJzBQL3tvITEmhqC?igrladHLH?nn !LU PhATZgaZhov\n",
            "\n",
            "pGAASmI;Cp\n",
            "k.Rd?N&mWW,ZCPyeeIJ3QfxSVQta.?dKv!,V tDtSdqjAgqA!GcB:GXpYeZGJJLId;Q,Q'-;v$isWpTAIWchTj.!T:q:n;y$yeqQ$ku;LuUxb;AQVxC!ddEQgTenEBbYuNNFgQ!LAGzWpkMvPJ3 ;yTeUA OO$To;ebEn.IQvt3IQwpzkM;-ZIgAyIA\n",
            "3LSvlAbHrt!B.G!G\n"
          ]
        }
      ]
    },
    {
      "cell_type": "code",
      "source": [
        "@torch.no_grad()\n",
        "def estimate_loss():\n",
        "  out = {}\n",
        "  model.eval()\n",
        "  for split in [\"train\", \"eval\"]:\n",
        "    losses = torch.zeros(eval_iters)\n",
        "    for k in range(eval_iters):\n",
        "      x, y = get_data(split)\n",
        "      loss, logits = model(x, y)\n",
        "      losses[k] = loss.item()\n",
        "    out[split] = losses.mean()\n",
        "  model.train()\n",
        "  return out"
      ],
      "metadata": {
        "id": "iAHh7hEw4i_-"
      },
      "execution_count": 17,
      "outputs": []
    },
    {
      "cell_type": "code",
      "source": [
        "tic = timer()\n",
        "losses = []\n",
        "steps = []\n",
        "optimizer = optim.AdamW(params = model.parameters(), lr = LR)"
      ],
      "metadata": {
        "id": "CebPi1cw7H8c"
      },
      "execution_count": 18,
      "outputs": []
    },
    {
      "cell_type": "code",
      "source": [
        "for epoch in tqdm(range(EPOCHS)):\n",
        "  if epoch % max_eval_iters == 0:\n",
        "    out = estimate_loss()\n",
        "    print(f\">>>> End of epoch {epoch + 1 if epoch == 0 else epoch}: Evaluation loss on the training data: {out['train']:.4f}\\\n",
        "    Evaluation loss on validation data: {out['eval']:.4f}\")\n",
        "  # Training our nonoGPT model\n",
        "  x, y = get_data(\"train\")\n",
        "  loss, logits = model(x, y)\n",
        "  optimizer.zero_grad()\n",
        "  loss.backward()\n",
        "  optimizer.step()\n",
        "  if epoch % 100 == 0: print(f\">>>> Epoch {epoch + 1 if epoch == 0 else epoch}: Train Loss: {loss:.4f}\")\n",
        "  steps.append(epoch)\n",
        "  losses.append(loss.item())\n",
        "\n",
        "plt.figure(figsize = (10, 9))\n",
        "plt.plot(steps, losses)\n",
        "plt.xlabel(\"Epochs\")\n",
        "plt.ylabel(\"Train Loss\")\n",
        "plt.title(\"Train Loss Trajectory\")\n",
        "toc = timer()\n",
        "print(f\"\\n\\n>>>> Total time elapsed: {mytimer(toc - tic)}\")"
      ],
      "metadata": {
        "colab": {
          "base_uri": "https://localhost:8080/",
          "height": 1000,
          "referenced_widgets": [
            "cc2538a69d6c4b1492dfd9a57d0e6b9e",
            "b89926fd1bfc4750ac23958db6045850",
            "c2d2543ac0094334902165c165bd2f95",
            "491b636f34ca409dbcb5e74a4b4f7316",
            "bf8664c0a40a436586d1dc2a3c70c681",
            "624b245eddd141fb9704049676655552",
            "27577a7d53cb4c5f940890d4b5f7391b",
            "f005cab6ef514b268cadd1bff63fcfef",
            "1dc5718d3ae240cb9b866fda8ffde2b6",
            "98b075d37e254c8ca57724e213be5af3",
            "a45e5217df674d4788585da1dea045c3"
          ]
        },
        "id": "Apwl_07o7Nrv",
        "outputId": "80658758-872a-4a35-c69e-acc3031c6be1"
      },
      "execution_count": 19,
      "outputs": [
        {
          "data": {
            "application/vnd.jupyter.widget-view+json": {
              "model_id": "cc2538a69d6c4b1492dfd9a57d0e6b9e",
              "version_major": 2,
              "version_minor": 0
            },
            "text/plain": [
              "  0%|          | 0/5000 [00:00<?, ?it/s]"
            ]
          },
          "metadata": {},
          "output_type": "display_data"
        },
        {
          "output_type": "stream",
          "name": "stdout",
          "text": [
            ">>>> End of epoch 1: Evaluation loss on the training data: 4.3191    Evaluation loss on validation data: 4.3273\n",
            ">>>> Epoch 1: Train Loss: 4.3185\n",
            ">>>> Epoch 100: Train Loss: 2.4927\n",
            ">>>> End of epoch 200: Evaluation loss on the training data: 2.4177    Evaluation loss on validation data: 2.4390\n",
            ">>>> Epoch 200: Train Loss: 2.4479\n",
            ">>>> Epoch 300: Train Loss: 2.3606\n",
            ">>>> End of epoch 400: Evaluation loss on the training data: 2.1404    Evaluation loss on validation data: 2.1889\n",
            ">>>> Epoch 400: Train Loss: 2.1891\n",
            ">>>> Epoch 500: Train Loss: 2.0967\n",
            ">>>> End of epoch 600: Evaluation loss on the training data: 1.8888    Evaluation loss on validation data: 1.9994\n",
            ">>>> Epoch 600: Train Loss: 1.9628\n",
            ">>>> Epoch 700: Train Loss: 1.8693\n",
            ">>>> End of epoch 800: Evaluation loss on the training data: 1.7148    Evaluation loss on validation data: 1.8592\n",
            ">>>> Epoch 800: Train Loss: 1.7701\n",
            ">>>> Epoch 900: Train Loss: 1.7412\n",
            ">>>> End of epoch 1000: Evaluation loss on the training data: 1.5962    Evaluation loss on validation data: 1.7650\n",
            ">>>> Epoch 1000: Train Loss: 1.6645\n",
            ">>>> Epoch 1100: Train Loss: 1.6807\n",
            ">>>> End of epoch 1200: Evaluation loss on the training data: 1.5214    Evaluation loss on validation data: 1.7038\n",
            ">>>> Epoch 1200: Train Loss: 1.6141\n",
            ">>>> Epoch 1300: Train Loss: 1.5837\n",
            ">>>> End of epoch 1400: Evaluation loss on the training data: 1.4642    Evaluation loss on validation data: 1.6570\n",
            ">>>> Epoch 1400: Train Loss: 1.5563\n",
            ">>>> Epoch 1500: Train Loss: 1.4975\n",
            ">>>> End of epoch 1600: Evaluation loss on the training data: 1.4141    Evaluation loss on validation data: 1.6181\n",
            ">>>> Epoch 1600: Train Loss: 1.4922\n",
            ">>>> Epoch 1700: Train Loss: 1.4991\n",
            ">>>> End of epoch 1800: Evaluation loss on the training data: 1.3759    Evaluation loss on validation data: 1.5926\n",
            ">>>> Epoch 1800: Train Loss: 1.4816\n",
            ">>>> Epoch 1900: Train Loss: 1.4347\n",
            ">>>> End of epoch 2000: Evaluation loss on the training data: 1.3437    Evaluation loss on validation data: 1.5669\n",
            ">>>> Epoch 2000: Train Loss: 1.4422\n",
            ">>>> Epoch 2100: Train Loss: 1.3865\n",
            ">>>> End of epoch 2200: Evaluation loss on the training data: 1.3104    Evaluation loss on validation data: 1.5442\n",
            ">>>> Epoch 2200: Train Loss: 1.3895\n",
            ">>>> Epoch 2300: Train Loss: 1.3856\n",
            ">>>> End of epoch 2400: Evaluation loss on the training data: 1.2886    Evaluation loss on validation data: 1.5335\n",
            ">>>> Epoch 2400: Train Loss: 1.3586\n",
            ">>>> Epoch 2500: Train Loss: 1.3402\n",
            ">>>> End of epoch 2600: Evaluation loss on the training data: 1.2670    Evaluation loss on validation data: 1.5199\n",
            ">>>> Epoch 2600: Train Loss: 1.3451\n",
            ">>>> Epoch 2700: Train Loss: 1.3150\n",
            ">>>> End of epoch 2800: Evaluation loss on the training data: 1.2460    Evaluation loss on validation data: 1.5048\n",
            ">>>> Epoch 2800: Train Loss: 1.3289\n",
            ">>>> Epoch 2900: Train Loss: 1.3059\n",
            ">>>> End of epoch 3000: Evaluation loss on the training data: 1.2241    Evaluation loss on validation data: 1.4962\n",
            ">>>> Epoch 3000: Train Loss: 1.3192\n",
            ">>>> Epoch 3100: Train Loss: 1.2880\n",
            ">>>> End of epoch 3200: Evaluation loss on the training data: 1.2092    Evaluation loss on validation data: 1.4924\n",
            ">>>> Epoch 3200: Train Loss: 1.2958\n",
            ">>>> Epoch 3300: Train Loss: 1.3098\n",
            ">>>> End of epoch 3400: Evaluation loss on the training data: 1.1931    Evaluation loss on validation data: 1.4935\n",
            ">>>> Epoch 3400: Train Loss: 1.2670\n",
            ">>>> Epoch 3500: Train Loss: 1.2971\n",
            ">>>> End of epoch 3600: Evaluation loss on the training data: 1.1743    Evaluation loss on validation data: 1.4686\n",
            ">>>> Epoch 3600: Train Loss: 1.2424\n",
            ">>>> Epoch 3700: Train Loss: 1.2281\n",
            ">>>> End of epoch 3800: Evaluation loss on the training data: 1.1616    Evaluation loss on validation data: 1.4794\n",
            ">>>> Epoch 3800: Train Loss: 1.2443\n",
            ">>>> Epoch 3900: Train Loss: 1.2543\n",
            ">>>> End of epoch 4000: Evaluation loss on the training data: 1.1449    Evaluation loss on validation data: 1.4720\n",
            ">>>> Epoch 4000: Train Loss: 1.2020\n",
            ">>>> Epoch 4100: Train Loss: 1.1943\n",
            ">>>> End of epoch 4200: Evaluation loss on the training data: 1.1324    Evaluation loss on validation data: 1.4800\n",
            ">>>> Epoch 4200: Train Loss: 1.2268\n",
            ">>>> Epoch 4300: Train Loss: 1.2272\n",
            ">>>> End of epoch 4400: Evaluation loss on the training data: 1.1181    Evaluation loss on validation data: 1.4743\n",
            ">>>> Epoch 4400: Train Loss: 1.2118\n",
            ">>>> Epoch 4500: Train Loss: 1.1934\n",
            ">>>> End of epoch 4600: Evaluation loss on the training data: 1.1055    Evaluation loss on validation data: 1.4758\n",
            ">>>> Epoch 4600: Train Loss: 1.1944\n",
            ">>>> Epoch 4700: Train Loss: 1.2136\n",
            ">>>> End of epoch 4800: Evaluation loss on the training data: 1.0918    Evaluation loss on validation data: 1.4799\n",
            ">>>> Epoch 4800: Train Loss: 1.2014\n",
            ">>>> Epoch 4900: Train Loss: 1.1768\n",
            "\n",
            "\n",
            ">>>> Total time elapsed: hrs: 0001, mins: 58, secs: 20.00\n"
          ]
        },
        {
          "output_type": "display_data",
          "data": {
            "text/plain": [
              "<Figure size 1000x900 with 1 Axes>"
            ],
            "image/png": "[encoded data removed]"
          },
          "metadata": {}
        }
      ]
    },
    {
      "cell_type": "code",
      "source": [
        "print(f\">>>> Texts generated by the trained nanoGPT:\\n\\n\\\n",
        "{''.join(decode(model.texts_generator(idx = torch.zeros(size = (1,1), dtype = torch.long, device = device),max_tokens =5000)[0].tolist()))}\")"
      ],
      "metadata": {
        "colab": {
          "base_uri": "https://localhost:8080/"
        },
        "id": "Y5j5Qc519YQR",
        "outputId": "2938f207-b907-40ad-e29b-076a0b06ba60"
      },
      "execution_count": 21,
      "outputs": [
        {
          "output_type": "stream",
          "name": "stdout",
          "text": [
            ">>>> Texts generated by the trained nanoGPT:\n",
            "\n",
            "\n",
            "\n",
            "Second Messenger:\n",
            "Yes, well; I'll tell thee resport then.\n",
            "\n",
            "First Watchman:\n",
            "What is the bell? Away her stander?\n",
            "\n",
            "First Watchman:\n",
            "When for give her with your dreadful serve?\n",
            "\n",
            "Page:\n",
            "Down to Lambert made inch silvents as the esteement,\n",
            "Or holds as good and galling to fetce the porl.\n",
            "\n",
            "KING EDWARD IV:\n",
            "It is 'twill'd with a pardon.\n",
            "\n",
            "YORK:\n",
            "You dear'st nothing?\n",
            "\n",
            "HENRY BOLINGBROKE:\n",
            "What say we this, what was with ily bolt?\n",
            "\n",
            "BUSWY:\n",
            "What calls?\n",
            "\n",
            "CHRSCY:\n",
            "\n",
            "KING HENRY VI:\n",
            "A reposet, Sir John, and the Geet\n",
            "They are, this mast subscrifice with age heart.\n",
            "\n",
            "WESTMORELAND:\n",
            "To the king when the Angelo kils them fortune welcome.\n",
            "\n",
            "CLIFFORD:\n",
            "Why are this triber be surbs, provost of noble worse?\n",
            "\n",
            "LEONTES:\n",
            "Allong comes thing I am not welcome,--\n",
            "We'll set the king in this notice by things againstard,\n",
            "Which short by overwhale: seeign not in free\n",
            "Break the struty from happy of blood,\n",
            "To all grosits and content time\n",
            "Even like viold, themselves that spoke me with me.\n",
            "\n",
            "Nurse:\n",
            "What you have deserved to this news?\n",
            "\n",
            "LADY ANNE:\n",
            "Nay, not so; then I restoled him;\n",
            "If could do request the sport of thy joyful's mind.\n",
            "\n",
            "EARLHBON:\n",
            "How thou comple is the court?\n",
            "\n",
            "GLOUCESTER:\n",
            "\n",
            "LADY ANNE:\n",
            "\n",
            "Lords,\n",
            "Well thou artHens' tears and noble truth.\n",
            "\n",
            "LORD LEY:\n",
            "Who much mine hour that from the base in time,\n",
            "If not be kinsman.\n",
            "\n",
            "LADY ANNE:\n",
            "Addmit from my daughter is the Earl: the world\n",
            "And great blows, Fortuned he is done, with\n",
            "As mawes from you the white from spout with revenge!\n",
            "Well bear the fault wicks: be shed, and if all,\n",
            "Let him be believed infaction; you from speak,\n",
            "Redress that music his father traded his accept:\n",
            "Miles honouritations; and makes them only,\n",
            "And parmit come, time that can wish.\n",
            "\n",
            "Fint Genthink:\n",
            "Ompotions him to pardon so many would all dew;\n",
            "It is out; mine ends of battle,\n",
            "If thou shalt find in George,\n",
            "Thou then the delives of stead words the hollower:\n",
            "Come, blusty forthwafellows storms: he that slips serves\n",
            "'Twas it in here?' ties, lack-which cold is wnly\n",
            "tales off shame: the straight is your body's like\n",
            "To slander examch daslite, qualing from my face\n",
            "Before to London with pines, if you art present.\n",
            "You perceive into the king Edward to Buckinght\n",
            "Unto his aboard this virtue's woe\n",
            "And once in Lord Such of Senator:\n",
            "He comes not King London's Racobs,\n",
            "And thus and a liegest cries and favour'd the Tower;\n",
            "Lest and in my body's further looks,\n",
            "So crave is for pale thing blow: come, sir; never\n",
            "\n",
            "ROMEO:\n",
            "But yet breath we steal; and with all devise\n",
            "And yield he have on their oath's after, defend\n",
            "That tribune shout to be off liege.\n",
            "\n",
            "ANGELO:\n",
            "'Twas conceit I in England,''t short in England:\n",
            "But give it to be distraged to my friend,\n",
            "And yet to set me vest forth of him more than\n",
            "Thou against with twenty hands upon me:\n",
            "And stand to there in honesty musics,\n",
            "'You bury my father's upon me; you say to Malius'\n",
            "Fit becase thyself perilow.\n",
            "Spear not Aufidius, Aumerle\n",
            "I sent to thee Op in thy perison: thou then\n",
            "fall thee that have accesse here died:\n",
            "If yet Clifford, I'll access feel thee:\n",
            "I'll be gone, be gone about: commend me now,\n",
            "To make him for the name of Warwick and to England!\n",
            "\n",
            "Second Murderer:\n",
            "Stay, 'tis a word: but has been sacrified\n",
            "As we were the stay off the wear of Hommas,\n",
            "When you so grown fairly to entreatel.\n",
            "Sirrah, Warwick! what means up to speat;\n",
            "What who hast he will be tended with the blood so dam?\n",
            "These beast a I'll ame, and offrence a man\n",
            "Were death enough.\n",
            "\n",
            "KING RICHARD II:\n",
            "My lady's good will for behold.\n",
            "I'll ruther tell me it, my lord.\n",
            "\n",
            "DUKE OF AUMERLE:\n",
            "Northumberland, my lord; let it not doubt\n",
            "That I overwith the stars was deadly dear--woe.\n",
            "\n",
            "JOHN OF GAUNT:\n",
            "Thou mist be heree, my most irone, Fly-horted,\n",
            "Canst fled thy brother Calais to royall in cross.\n",
            "\n",
            "ROMEO:\n",
            "Why, then so Achurch in death, amazed thy stime\n",
            "Of his chamber? For Richmond; then my misdouse hate:\n",
            "Which seems the sead\n",
            "Half struck to hangs enter her own her true.\n",
            "\n",
            "ROMEO:\n",
            "She's well.\n",
            "\n",
            "BEON:\n",
            "I will, as I need.\n",
            "\n",
            "JULIET:\n",
            "What a serit mind?\n",
            "\n",
            "ROMEO:\n",
            "Some I say so set town forgive?\n",
            "\n",
            "Nurse:\n",
            "My fair nurse; the stretched is Lond\n",
            "And tult proses away. Hark now! we meet\n",
            "The function in the timed of thine sole shall\n",
            "As man, a wown with a gentleman--hout-outher's foul\n",
            "Pronder that your bowl,\n",
            "my meters is some other's featen's under's name,\n",
            "With shorteness gring born shit out senate a news\n",
            "Of Marcius Copitol! George, speak to because him:\n",
            "At some Estories come, with our pottent,\n",
            "That where outwive his thilts usurp'd for flesh.\n",
            "\n",
            "Herd:\n",
            "Devou what thou dost so saw thine monur that\n",
            "Like his title receit\n",
            "I music them to the wholesome: then, in you\n",
            "\n",
            "Lie shalt neighbours in Amazable.\n",
            "\n",
            "First Citizen:\n",
            "He hath said Romeo, we'll know your daughter; but\n",
            "they vour that meet be forth all my skeep counsel:\n",
            "Why, he blood it feats like to call thy sin.\n",
            "\n",
            "BUCKINGHAM:\n",
            "Ay, thou dear me for so sorrow it, between so,\n",
            "Being proceed the very of palaments? thou darest, and Cominius\n",
            "they are so, thou wring'st in Angelo now\n",
            "Of dample, if I with safet\n",
            "Sceptre a broach-blood up some homd-hearted flock\n",
            "Winter in two may on him: yau mu\n"
          ]
        }
      ]
    },
    {
      "cell_type": "code",
      "source": [],
      "metadata": {
        "id": "t0Lk_7nwcUBL"
      },
      "execution_count": null,
      "outputs": []
    }
  ],
  "metadata": {
    "colab": {
      "provenance": [],
      "gpuType": "T4",
      "authorship_tag": "ABX9TyMn9FX98253Pt4wKrZbEMva",
      "include_colab_link": true
    },
    "kernelspec": {
      "display_name": "Python 3",
      "name": "python3"
    },
    "language_info": {
      "name": "python"
    },
    "widgets": {
      "application/vnd.jupyter.widget-state+json": {
        "cc2538a69d6c4b1492dfd9a57d0e6b9e": {
          "model_module": "@jupyter-widgets/controls",
          "model_name": "HBoxModel",
          "model_module_version": "1.5.0",
          "state": {
            "_dom_classes": [],
            "_model_module": "@jupyter-widgets/controls",
            "_model_module_version": "1.5.0",
            "_model_name": "HBoxModel",
            "_view_count": null,
            "_view_module": "@jupyter-widgets/controls",
            "_view_module_version": "1.5.0",
            "_view_name": "HBoxView",
            "box_style": "",
            "children": [
              "IPY_MODEL_b89926fd1bfc4750ac23958db6045850",
              "IPY_MODEL_c2d2543ac0094334902165c165bd2f95",
              "IPY_MODEL_491b636f34ca409dbcb5e74a4b4f7316"
            ],
            "layout": "IPY_MODEL_bf8664c0a40a436586d1dc2a3c70c681"
          }
        },
        "b89926fd1bfc4750ac23958db6045850": {
          "model_module": "@jupyter-widgets/controls",
          "model_name": "HTMLModel",
          "model_module_version": "1.5.0",
          "state": {
            "_dom_classes": [],
            "_model_module": "@jupyter-widgets/controls",
            "_model_module_version": "1.5.0",
            "_model_name": "HTMLModel",
            "_view_count": null,
            "_view_module": "@jupyter-widgets/controls",
            "_view_module_version": "1.5.0",
            "_view_name": "HTMLView",
            "description": "",
            "description_tooltip": null,
            "layout": "IPY_MODEL_624b245eddd141fb9704049676655552",
            "placeholder": "​",
            "style": "IPY_MODEL_27577a7d53cb4c5f940890d4b5f7391b",
            "value": "100%"
          }
        },
        "c2d2543ac0094334902165c165bd2f95": {
          "model_module": "@jupyter-widgets/controls",
          "model_name": "FloatProgressModel",
          "model_module_version": "1.5.0",
          "state": {
            "_dom_classes": [],
            "_model_module": "@jupyter-widgets/controls",
            "_model_module_version": "1.5.0",
            "_model_name": "FloatProgressModel",
            "_view_count": null,
            "_view_module": "@jupyter-widgets/controls",
            "_view_module_version": "1.5.0",
            "_view_name": "ProgressView",
            "bar_style": "success",
            "description": "",
            "description_tooltip": null,
            "layout": "IPY_MODEL_f005cab6ef514b268cadd1bff63fcfef",
            "max": 5000,
            "min": 0,
            "orientation": "horizontal",
            "style": "IPY_MODEL_1dc5718d3ae240cb9b866fda8ffde2b6",
            "value": 5000
          }
        },
        "491b636f34ca409dbcb5e74a4b4f7316": {
          "model_module": "@jupyter-widgets/controls",
          "model_name": "HTMLModel",
          "model_module_version": "1.5.0",
          "state": {
            "_dom_classes": [],
            "_model_module": "@jupyter-widgets/controls",
            "_model_module_version": "1.5.0",
            "_model_name": "HTMLModel",
            "_view_count": null,
            "_view_module": "@jupyter-widgets/controls",
            "_view_module_version": "1.5.0",
            "_view_name": "HTMLView",
            "description": "",
            "description_tooltip": null,
            "layout": "IPY_MODEL_98b075d37e254c8ca57724e213be5af3",
            "placeholder": "​",
            "style": "IPY_MODEL_a45e5217df674d4788585da1dea045c3",
            "value": " 5000/5000 [1:58:20&lt;00:00,  1.97it/s]"
          }
        },
        "bf8664c0a40a436586d1dc2a3c70c681": {
          "model_module": "@jupyter-widgets/base",
          "model_name": "LayoutModel",
          "model_module_version": "1.2.0",
          "state": {
            "_model_module": "@jupyter-widgets/base",
            "_model_module_version": "1.2.0",
            "_model_name": "LayoutModel",
            "_view_count": null,
            "_view_module": "@jupyter-widgets/base",
            "_view_module_version": "1.2.0",
            "_view_name": "LayoutView",
            "align_content": null,
            "align_items": null,
            "align_self": null,
            "border": null,
            "bottom": null,
            "display": null,
            "flex": null,
            "flex_flow": null,
            "grid_area": null,
            "grid_auto_columns": null,
            "grid_auto_flow": null,
            "grid_auto_rows": null,
            "grid_column": null,
            "grid_gap": null,
            "grid_row": null,
            "grid_template_areas": null,
            "grid_template_columns": null,
            "grid_template_rows": null,
            "height": null,
            "justify_content": null,
            "justify_items": null,
            "left": null,
            "margin": null,
            "max_height": null,
            "max_width": null,
            "min_height": null,
            "min_width": null,
            "object_fit": null,
            "object_position": null,
            "order": null,
            "overflow": null,
            "overflow_x": null,
            "overflow_y": null,
            "padding": null,
            "right": null,
            "top": null,
            "visibility": null,
            "width": null
          }
        },
        "624b245eddd141fb9704049676655552": {
          "model_module": "@jupyter-widgets/base",
          "model_name": "LayoutModel",
          "model_module_version": "1.2.0",
          "state": {
            "_model_module": "@jupyter-widgets/base",
            "_model_module_version": "1.2.0",
            "_model_name": "LayoutModel",
            "_view_count": null,
            "_view_module": "@jupyter-widgets/base",
            "_view_module_version": "1.2.0",
            "_view_name": "LayoutView",
            "align_content": null,
            "align_items": null,
            "align_self": null,
            "border": null,
            "bottom": null,
            "display": null,
            "flex": null,
            "flex_flow": null,
            "grid_area": null,
            "grid_auto_columns": null,
            "grid_auto_flow": null,
            "grid_auto_rows": null,
            "grid_column": null,
            "grid_gap": null,
            "grid_row": null,
            "grid_template_areas": null,
            "grid_template_columns": null,
            "grid_template_rows": null,
            "height": null,
            "justify_content": null,
            "justify_items": null,
            "left": null,
            "margin": null,
            "max_height": null,
            "max_width": null,
            "min_height": null,
            "min_width": null,
            "object_fit": null,
            "object_position": null,
            "order": null,
            "overflow": null,
            "overflow_x": null,
            "overflow_y": null,
            "padding": null,
            "right": null,
            "top": null,
            "visibility": null,
            "width": null
          }
        },
        "27577a7d53cb4c5f940890d4b5f7391b": {
          "model_module": "@jupyter-widgets/controls",
          "model_name": "DescriptionStyleModel",
          "model_module_version": "1.5.0",
          "state": {
            "_model_module": "@jupyter-widgets/controls",
            "_model_module_version": "1.5.0",
            "_model_name": "DescriptionStyleModel",
            "_view_count": null,
            "_view_module": "@jupyter-widgets/base",
            "_view_module_version": "1.2.0",
            "_view_name": "StyleView",
            "description_width": ""
          }
        },
        "f005cab6ef514b268cadd1bff63fcfef": {
          "model_module": "@jupyter-widgets/base",
          "model_name": "LayoutModel",
          "model_module_version": "1.2.0",
          "state": {
            "_model_module": "@jupyter-widgets/base",
            "_model_module_version": "1.2.0",
            "_model_name": "LayoutModel",
            "_view_count": null,
            "_view_module": "@jupyter-widgets/base",
            "_view_module_version": "1.2.0",
            "_view_name": "LayoutView",
            "align_content": null,
            "align_items": null,
            "align_self": null,
            "border": null,
            "bottom": null,
            "display": null,
            "flex": null,
            "flex_flow": null,
            "grid_area": null,
            "grid_auto_columns": null,
            "grid_auto_flow": null,
            "grid_auto_rows": null,
            "grid_column": null,
            "grid_gap": null,
            "grid_row": null,
            "grid_template_areas": null,
            "grid_template_columns": null,
            "grid_template_rows": null,
            "height": null,
            "justify_content": null,
            "justify_items": null,
            "left": null,
            "margin": null,
            "max_height": null,
            "max_width": null,
            "min_height": null,
            "min_width": null,
            "object_fit": null,
            "object_position": null,
            "order": null,
            "overflow": null,
            "overflow_x": null,
            "overflow_y": null,
            "padding": null,
            "right": null,
            "top": null,
            "visibility": null,
            "width": null
          }
        },
        "1dc5718d3ae240cb9b866fda8ffde2b6": {
          "model_module": "@jupyter-widgets/controls",
          "model_name": "ProgressStyleModel",
          "model_module_version": "1.5.0",
          "state": {
            "_model_module": "@jupyter-widgets/controls",
            "_model_module_version": "1.5.0",
            "_model_name": "ProgressStyleModel",
            "_view_count": null,
            "_view_module": "@jupyter-widgets/base",
            "_view_module_version": "1.2.0",
            "_view_name": "StyleView",
            "bar_color": null,
            "description_width": ""
          }
        },
        "98b075d37e254c8ca57724e213be5af3": {
          "model_module": "@jupyter-widgets/base",
          "model_name": "LayoutModel",
          "model_module_version": "1.2.0",
          "state": {
            "_model_module": "@jupyter-widgets/base",
            "_model_module_version": "1.2.0",
            "_model_name": "LayoutModel",
            "_view_count": null,
            "_view_module": "@jupyter-widgets/base",
            "_view_module_version": "1.2.0",
            "_view_name": "LayoutView",
            "align_content": null,
            "align_items": null,
            "align_self": null,
            "border": null,
            "bottom": null,
            "display": null,
            "flex": null,
            "flex_flow": null,
            "grid_area": null,
            "grid_auto_columns": null,
            "grid_auto_flow": null,
            "grid_auto_rows": null,
            "grid_column": null,
            "grid_gap": null,
            "grid_row": null,
            "grid_template_areas": null,
            "grid_template_columns": null,
            "grid_template_rows": null,
            "height": null,
            "justify_content": null,
            "justify_items": null,
            "left": null,
            "margin": null,
            "max_height": null,
            "max_width": null,
            "min_height": null,
            "min_width": null,
            "object_fit": null,
            "object_position": null,
            "order": null,
            "overflow": null,
            "overflow_x": null,
            "overflow_y": null,
            "padding": null,
            "right": null,
            "top": null,
            "visibility": null,
            "width": null
          }
        },
        "a45e5217df674d4788585da1dea045c3": {
          "model_module": "@jupyter-widgets/controls",
          "model_name": "DescriptionStyleModel",
          "model_module_version": "1.5.0",
          "state": {
            "_model_module": "@jupyter-widgets/controls",
            "_model_module_version": "1.5.0",
            "_model_name": "DescriptionStyleModel",
            "_view_count": null,
            "_view_module": "@jupyter-widgets/base",
            "_view_module_version": "1.2.0",
            "_view_name": "StyleView",
            "description_width": ""
          }
        }
      }
    }
  },
  "nbformat": 4,
  "nbformat_minor": 0
}
